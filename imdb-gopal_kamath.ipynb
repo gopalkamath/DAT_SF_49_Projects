{
 "cells": [
  {
   "cell_type": "markdown",
   "metadata": {},
   "source": [
    "<img src=\"http://imgur.com/1ZcRyrc.png\" style=\"float: left; margin: 20px; height: 55px\">\n",
    "\n",
    "# Project 2: Analyzing IMDb Data\n",
    "\n",
    "_Author: Kevin Markham (DC)_\n",
    "\n",
    "---"
   ]
  },
  {
   "cell_type": "markdown",
   "metadata": {},
   "source": [
    "For project two, you will complete a serious of exercises exploring movie rating data from IMDb.\n",
    "\n",
    "For these exercises, you will be conducting basic exploratory data analysis on IMDB's movie data, looking to answer such questions as:\n",
    "\n",
    "What is the average rating per genre?\n",
    "How many different actors are in a movie?\n",
    "\n",
    "This process will help you practice your data analysis skills while becoming comfortable with Pandas."
   ]
  },
  {
   "cell_type": "markdown",
   "metadata": {},
   "source": [
    "## Basic level"
   ]
  },
  {
   "cell_type": "code",
   "execution_count": 55,
   "metadata": {},
   "outputs": [],
   "source": [
    "import pandas as pd\n",
    "import matplotlib.pyplot as plt\n",
    "%matplotlib inline"
   ]
  },
  {
   "cell_type": "markdown",
   "metadata": {},
   "source": [
    "#### Read in 'imdb_1000.csv' and store it in a DataFrame named movies."
   ]
  },
  {
   "cell_type": "code",
   "execution_count": 56,
   "metadata": {},
   "outputs": [
    {
     "data": {
      "text/html": [
       "<div>\n",
       "<style scoped>\n",
       "    .dataframe tbody tr th:only-of-type {\n",
       "        vertical-align: middle;\n",
       "    }\n",
       "\n",
       "    .dataframe tbody tr th {\n",
       "        vertical-align: top;\n",
       "    }\n",
       "\n",
       "    .dataframe thead th {\n",
       "        text-align: right;\n",
       "    }\n",
       "</style>\n",
       "<table border=\"1\" class=\"dataframe\">\n",
       "  <thead>\n",
       "    <tr style=\"text-align: right;\">\n",
       "      <th></th>\n",
       "      <th>star_rating</th>\n",
       "      <th>title</th>\n",
       "      <th>content_rating</th>\n",
       "      <th>genre</th>\n",
       "      <th>duration</th>\n",
       "      <th>actors_list</th>\n",
       "    </tr>\n",
       "  </thead>\n",
       "  <tbody>\n",
       "    <tr>\n",
       "      <th>0</th>\n",
       "      <td>9.3</td>\n",
       "      <td>The Shawshank Redemption</td>\n",
       "      <td>R</td>\n",
       "      <td>Crime</td>\n",
       "      <td>142</td>\n",
       "      <td>[u'Tim Robbins', u'Morgan Freeman', u'Bob Gunt...</td>\n",
       "    </tr>\n",
       "    <tr>\n",
       "      <th>1</th>\n",
       "      <td>9.2</td>\n",
       "      <td>The Godfather</td>\n",
       "      <td>R</td>\n",
       "      <td>Crime</td>\n",
       "      <td>175</td>\n",
       "      <td>[u'Marlon Brando', u'Al Pacino', u'James Caan']</td>\n",
       "    </tr>\n",
       "    <tr>\n",
       "      <th>2</th>\n",
       "      <td>9.1</td>\n",
       "      <td>The Godfather: Part II</td>\n",
       "      <td>R</td>\n",
       "      <td>Crime</td>\n",
       "      <td>200</td>\n",
       "      <td>[u'Al Pacino', u'Robert De Niro', u'Robert Duv...</td>\n",
       "    </tr>\n",
       "    <tr>\n",
       "      <th>3</th>\n",
       "      <td>9.0</td>\n",
       "      <td>The Dark Knight</td>\n",
       "      <td>PG-13</td>\n",
       "      <td>Action</td>\n",
       "      <td>152</td>\n",
       "      <td>[u'Christian Bale', u'Heath Ledger', u'Aaron E...</td>\n",
       "    </tr>\n",
       "    <tr>\n",
       "      <th>4</th>\n",
       "      <td>8.9</td>\n",
       "      <td>Pulp Fiction</td>\n",
       "      <td>R</td>\n",
       "      <td>Crime</td>\n",
       "      <td>154</td>\n",
       "      <td>[u'John Travolta', u'Uma Thurman', u'Samuel L....</td>\n",
       "    </tr>\n",
       "  </tbody>\n",
       "</table>\n",
       "</div>"
      ],
      "text/plain": [
       "   star_rating                     title content_rating   genre  duration  \\\n",
       "0          9.3  The Shawshank Redemption              R   Crime       142   \n",
       "1          9.2             The Godfather              R   Crime       175   \n",
       "2          9.1    The Godfather: Part II              R   Crime       200   \n",
       "3          9.0           The Dark Knight          PG-13  Action       152   \n",
       "4          8.9              Pulp Fiction              R   Crime       154   \n",
       "\n",
       "                                         actors_list  \n",
       "0  [u'Tim Robbins', u'Morgan Freeman', u'Bob Gunt...  \n",
       "1    [u'Marlon Brando', u'Al Pacino', u'James Caan']  \n",
       "2  [u'Al Pacino', u'Robert De Niro', u'Robert Duv...  \n",
       "3  [u'Christian Bale', u'Heath Ledger', u'Aaron E...  \n",
       "4  [u'John Travolta', u'Uma Thurman', u'Samuel L....  "
      ]
     },
     "execution_count": 56,
     "metadata": {},
     "output_type": "execute_result"
    }
   ],
   "source": [
    "movies = pd.read_csv('./data/imdb_1000.csv')\n",
    "movies.head()"
   ]
  },
  {
   "cell_type": "markdown",
   "metadata": {},
   "source": [
    "#### Check the number of rows and columns."
   ]
  },
  {
   "cell_type": "code",
   "execution_count": 57,
   "metadata": {},
   "outputs": [
    {
     "data": {
      "text/plain": [
       "(979, 6)"
      ]
     },
     "execution_count": 57,
     "metadata": {},
     "output_type": "execute_result"
    }
   ],
   "source": [
    "# Answer:\n",
    "movies.shape"
   ]
  },
  {
   "cell_type": "markdown",
   "metadata": {},
   "source": [
    "#### Check the data type of each column."
   ]
  },
  {
   "cell_type": "code",
   "execution_count": 58,
   "metadata": {},
   "outputs": [
    {
     "data": {
      "text/plain": [
       "star_rating       float64\n",
       "title              object\n",
       "content_rating     object\n",
       "genre              object\n",
       "duration            int64\n",
       "actors_list        object\n",
       "dtype: object"
      ]
     },
     "execution_count": 58,
     "metadata": {},
     "output_type": "execute_result"
    }
   ],
   "source": [
    "# Answer:\n",
    "movies.dtypes"
   ]
  },
  {
   "cell_type": "markdown",
   "metadata": {},
   "source": [
    "#### Calculate the average movie duration."
   ]
  },
  {
   "cell_type": "code",
   "execution_count": 59,
   "metadata": {},
   "outputs": [
    {
     "data": {
      "text/plain": [
       "120.97957099080695"
      ]
     },
     "execution_count": 59,
     "metadata": {},
     "output_type": "execute_result"
    }
   ],
   "source": [
    "# Answer:\n",
    "movies['duration'].mean()"
   ]
  },
  {
   "cell_type": "markdown",
   "metadata": {},
   "source": [
    "#### Sort the DataFrame by duration to find the shortest and longest movies."
   ]
  },
  {
   "cell_type": "code",
   "execution_count": 60,
   "metadata": {},
   "outputs": [
    {
     "name": "stdout",
     "output_type": "stream",
     "text": [
      "Shortest: 64 Mins\n",
      "Longest: 242 Mins\n"
     ]
    }
   ],
   "source": [
    "# Answer:\n",
    "print('Shortest: '+ str(movies['duration'].min())+ ' Mins')\n",
    "print('Longest: '+ str(movies['duration'].max())+ ' Mins')"
   ]
  },
  {
   "cell_type": "markdown",
   "metadata": {},
   "source": [
    "#### Create a histogram of duration, choosing an \"appropriate\" number of bins."
   ]
  },
  {
   "cell_type": "code",
   "execution_count": 114,
   "metadata": {},
   "outputs": [
    {
     "data": {
      "image/png": "[encoded data removed]",
      "text/plain": [
       "<Figure size 432x288 with 1 Axes>"
      ]
     },
     "metadata": {},
     "output_type": "display_data"
    }
   ],
   "source": [
    "# Answer:\n",
    "movies['duration'].plot(kind='hist', bins=18);"
   ]
  },
  {
   "cell_type": "markdown",
   "metadata": {},
   "source": [
    "#### Use a box plot to display that same data."
   ]
  },
  {
   "cell_type": "code",
   "execution_count": 112,
   "metadata": {},
   "outputs": [
    {
     "data": {
      "image/png": "[encoded data removed]",
      "text/plain": [
       "<Figure size 432x288 with 1 Axes>"
      ]
     },
     "metadata": {},
     "output_type": "display_data"
    }
   ],
   "source": [
    "# Answer:\n",
    "movies['duration'].plot(kind='box');"
   ]
  },
  {
   "cell_type": "markdown",
   "metadata": {},
   "source": [
    "## Intermediate level"
   ]
  },
  {
   "cell_type": "markdown",
   "metadata": {},
   "source": [
    "#### Count how many movies have each of the content ratings."
   ]
  },
  {
   "cell_type": "code",
   "execution_count": 63,
   "metadata": {},
   "outputs": [
    {
     "data": {
      "text/plain": [
       "R            460\n",
       "PG-13        189\n",
       "PG           123\n",
       "NOT RATED     65\n",
       "APPROVED      47\n",
       "UNRATED       38\n",
       "G             32\n",
       "PASSED         7\n",
       "NC-17          7\n",
       "X              4\n",
       "GP             3\n",
       "TV-MA          1\n",
       "Name: content_rating, dtype: int64"
      ]
     },
     "execution_count": 63,
     "metadata": {},
     "output_type": "execute_result"
    }
   ],
   "source": [
    "# Answer:\n",
    "movies['content_rating'].value_counts()"
   ]
  },
  {
   "cell_type": "markdown",
   "metadata": {},
   "source": [
    "#### Use a visualization to display that same data, including a title and x and y labels."
   ]
  },
  {
   "cell_type": "code",
   "execution_count": 64,
   "metadata": {},
   "outputs": [
    {
     "data": {
      "image/png": "[encoded data removed]",
      "text/plain": [
       "<Figure size 432x288 with 1 Axes>"
      ]
     },
     "metadata": {},
     "output_type": "display_data"
    }
   ],
   "source": [
    "# Answer:\n",
    "movies['content_rating'].value_counts().plot(kind='bar')\n",
    "plt.title('Movies by Rating')\n",
    "plt.xlabel('Rating')\n",
    "plt.ylabel('Movies');"
   ]
  },
  {
   "cell_type": "markdown",
   "metadata": {},
   "source": [
    "#### Convert the following content ratings to \"UNRATED\": NOT RATED, APPROVED, PASSED, GP."
   ]
  },
  {
   "cell_type": "code",
   "execution_count": 65,
   "metadata": {},
   "outputs": [
    {
     "data": {
      "text/plain": [
       "0            R\n",
       "1            R\n",
       "2            R\n",
       "3        PG-13\n",
       "4            R\n",
       "5      UNRATED\n",
       "6      UNRATED\n",
       "7        PG-13\n",
       "8            R\n",
       "9            R\n",
       "10       PG-13\n",
       "11       PG-13\n",
       "12          PG\n",
       "13       PG-13\n",
       "14       PG-13\n",
       "15       PG-13\n",
       "16           R\n",
       "17     UNRATED\n",
       "18           R\n",
       "19          PG\n",
       "20           R\n",
       "21           R\n",
       "22     UNRATED\n",
       "23           R\n",
       "24           R\n",
       "25       PG-13\n",
       "26       PG-13\n",
       "27           R\n",
       "28           R\n",
       "29     UNRATED\n",
       "        ...   \n",
       "949         PG\n",
       "950          R\n",
       "951          R\n",
       "952          R\n",
       "953         PG\n",
       "954      PG-13\n",
       "955          R\n",
       "956         PG\n",
       "957          R\n",
       "958      PG-13\n",
       "959          R\n",
       "960      PG-13\n",
       "961          R\n",
       "962         PG\n",
       "963          R\n",
       "964      PG-13\n",
       "965      PG-13\n",
       "966      PG-13\n",
       "967          R\n",
       "968          R\n",
       "969          R\n",
       "970          R\n",
       "971          R\n",
       "972      NC-17\n",
       "973      PG-13\n",
       "974         PG\n",
       "975         PG\n",
       "976      PG-13\n",
       "977         PG\n",
       "978          R\n",
       "Name: content_rating, Length: 979, dtype: object"
      ]
     },
     "execution_count": 65,
     "metadata": {},
     "output_type": "execute_result"
    }
   ],
   "source": [
    "# Answer:\n",
    "movies['content_rating'].replace(['NOT RATED', 'APPROVED', 'PASSED', 'GP'], 'UNRATED')"
   ]
  },
  {
   "cell_type": "markdown",
   "metadata": {},
   "source": [
    "#### Convert the following content ratings to \"NC-17\": X, TV-MA."
   ]
  },
  {
   "cell_type": "code",
   "execution_count": 66,
   "metadata": {},
   "outputs": [
    {
     "data": {
      "text/plain": [
       "0              R\n",
       "1              R\n",
       "2              R\n",
       "3          PG-13\n",
       "4              R\n",
       "5      NOT RATED\n",
       "6      NOT RATED\n",
       "7          PG-13\n",
       "8              R\n",
       "9              R\n",
       "10         PG-13\n",
       "11         PG-13\n",
       "12            PG\n",
       "13         PG-13\n",
       "14         PG-13\n",
       "15         PG-13\n",
       "16             R\n",
       "17       UNRATED\n",
       "18             R\n",
       "19            PG\n",
       "20             R\n",
       "21             R\n",
       "22      APPROVED\n",
       "23             R\n",
       "24             R\n",
       "25         PG-13\n",
       "26         PG-13\n",
       "27             R\n",
       "28             R\n",
       "29        PASSED\n",
       "         ...    \n",
       "949           PG\n",
       "950            R\n",
       "951            R\n",
       "952            R\n",
       "953           PG\n",
       "954        PG-13\n",
       "955            R\n",
       "956           PG\n",
       "957            R\n",
       "958        PG-13\n",
       "959            R\n",
       "960        PG-13\n",
       "961            R\n",
       "962           PG\n",
       "963            R\n",
       "964        PG-13\n",
       "965        PG-13\n",
       "966        PG-13\n",
       "967            R\n",
       "968            R\n",
       "969            R\n",
       "970            R\n",
       "971            R\n",
       "972        NC-17\n",
       "973        PG-13\n",
       "974           PG\n",
       "975           PG\n",
       "976        PG-13\n",
       "977           PG\n",
       "978            R\n",
       "Name: content_rating, Length: 979, dtype: object"
      ]
     },
     "execution_count": 66,
     "metadata": {},
     "output_type": "execute_result"
    }
   ],
   "source": [
    "# Answer:\n",
    "movies['content_rating'].replace(['X', 'TV-MA'], 'NC-17')"
   ]
  },
  {
   "cell_type": "markdown",
   "metadata": {},
   "source": [
    "#### Count the number of missing values in each column."
   ]
  },
  {
   "cell_type": "code",
   "execution_count": 98,
   "metadata": {},
   "outputs": [
    {
     "data": {
      "text/plain": [
       "True"
      ]
     },
     "execution_count": 98,
     "metadata": {},
     "output_type": "execute_result"
    }
   ],
   "source": [
    "# Answer:\n",
    "movies.isnull().values.any()"
   ]
  },
  {
   "cell_type": "markdown",
   "metadata": {},
   "source": [
    "#### If there are missing values: examine them, then fill them in with \"reasonable\" values."
   ]
  },
  {
   "cell_type": "code",
   "execution_count": 99,
   "metadata": {},
   "outputs": [
    {
     "data": {
      "text/plain": [
       "0              R\n",
       "1              R\n",
       "2              R\n",
       "3          PG-13\n",
       "4              R\n",
       "5      NOT RATED\n",
       "6      NOT RATED\n",
       "7          PG-13\n",
       "8              R\n",
       "9              R\n",
       "10         PG-13\n",
       "11         PG-13\n",
       "12            PG\n",
       "13         PG-13\n",
       "14         PG-13\n",
       "15         PG-13\n",
       "16             R\n",
       "17       UNRATED\n",
       "18             R\n",
       "19            PG\n",
       "20             R\n",
       "21             R\n",
       "22      APPROVED\n",
       "23             R\n",
       "24             R\n",
       "25         PG-13\n",
       "26         PG-13\n",
       "27             R\n",
       "28             R\n",
       "29        PASSED\n",
       "         ...    \n",
       "949           PG\n",
       "950            R\n",
       "951            R\n",
       "952            R\n",
       "953           PG\n",
       "954        PG-13\n",
       "955            R\n",
       "956           PG\n",
       "957            R\n",
       "958        PG-13\n",
       "959            R\n",
       "960        PG-13\n",
       "961            R\n",
       "962           PG\n",
       "963            R\n",
       "964        PG-13\n",
       "965        PG-13\n",
       "966        PG-13\n",
       "967            R\n",
       "968            R\n",
       "969            R\n",
       "970            R\n",
       "971            R\n",
       "972        NC-17\n",
       "973        PG-13\n",
       "974           PG\n",
       "975           PG\n",
       "976        PG-13\n",
       "977           PG\n",
       "978            R\n",
       "Name: content_rating, Length: 979, dtype: object"
      ]
     },
     "execution_count": 99,
     "metadata": {},
     "output_type": "execute_result"
    }
   ],
   "source": [
    "# Answer:\n",
    "movies.content_rating.fillna('UNRATED')"
   ]
  },
  {
   "cell_type": "markdown",
   "metadata": {},
   "source": [
    "#### Calculate the average star rating for movies 2 hours or longer, and compare that with the average star rating for movies shorter than 2 hours."
   ]
  },
  {
   "cell_type": "code",
   "execution_count": 84,
   "metadata": {},
   "outputs": [
    {
     "name": "stdout",
     "output_type": "stream",
     "text": [
      "Average star rating for movies 2 hours or longer: 7.948898678414082\n",
      "Average star rating for movies shorter than 2 hours: 7.838666666666657\n"
     ]
    }
   ],
   "source": [
    "# Answer:\n",
    "print('Average star rating for movies 2 hours or longer: ' + str(movies[(movies.duration >= 120)].star_rating.mean()))\n",
    "print('Average star rating for movies shorter than 2 hours: ' + str(movies[(movies.duration < 120)].star_rating.mean()))"
   ]
  },
  {
   "cell_type": "markdown",
   "metadata": {},
   "source": [
    "#### Use a visualization to detect whether there is a relationship between duration and star rating."
   ]
  },
  {
   "cell_type": "code",
   "execution_count": 70,
   "metadata": {},
   "outputs": [
    {
     "data": {
      "image/png": "[encoded data removed]",
      "text/plain": [
       "<Figure size 432x288 with 1 Axes>"
      ]
     },
     "metadata": {},
     "output_type": "display_data"
    }
   ],
   "source": [
    "# Answer:\n",
    "movies.plot(kind='scatter',x='duration',y='star_rating')\n",
    "plt.title('Rating by Duration')\n",
    "plt.xlabel('Duration')\n",
    "plt.ylabel('Stars')\n",
    "plt.show()"
   ]
  },
  {
   "cell_type": "markdown",
   "metadata": {},
   "source": [
    "#### Calculate the average duration for each genre."
   ]
  },
  {
   "cell_type": "code",
   "execution_count": 170,
   "metadata": {},
   "outputs": [
    {
     "data": {
      "text/html": [
       "<div>\n",
       "<style scoped>\n",
       "    .dataframe tbody tr th:only-of-type {\n",
       "        vertical-align: middle;\n",
       "    }\n",
       "\n",
       "    .dataframe tbody tr th {\n",
       "        vertical-align: top;\n",
       "    }\n",
       "\n",
       "    .dataframe thead th {\n",
       "        text-align: right;\n",
       "    }\n",
       "</style>\n",
       "<table border=\"1\" class=\"dataframe\">\n",
       "  <thead>\n",
       "    <tr style=\"text-align: right;\">\n",
       "      <th></th>\n",
       "      <th>star_rating</th>\n",
       "      <th>duration</th>\n",
       "    </tr>\n",
       "    <tr>\n",
       "      <th>genre</th>\n",
       "      <th></th>\n",
       "      <th></th>\n",
       "    </tr>\n",
       "  </thead>\n",
       "  <tbody>\n",
       "    <tr>\n",
       "      <th>Action</th>\n",
       "      <td>7.884559</td>\n",
       "      <td>126.485294</td>\n",
       "    </tr>\n",
       "    <tr>\n",
       "      <th>Adventure</th>\n",
       "      <td>7.933333</td>\n",
       "      <td>134.840000</td>\n",
       "    </tr>\n",
       "    <tr>\n",
       "      <th>Animation</th>\n",
       "      <td>7.914516</td>\n",
       "      <td>96.596774</td>\n",
       "    </tr>\n",
       "    <tr>\n",
       "      <th>Biography</th>\n",
       "      <td>7.862338</td>\n",
       "      <td>131.844156</td>\n",
       "    </tr>\n",
       "    <tr>\n",
       "      <th>Comedy</th>\n",
       "      <td>7.822436</td>\n",
       "      <td>107.602564</td>\n",
       "    </tr>\n",
       "    <tr>\n",
       "      <th>Crime</th>\n",
       "      <td>7.916935</td>\n",
       "      <td>122.298387</td>\n",
       "    </tr>\n",
       "    <tr>\n",
       "      <th>Drama</th>\n",
       "      <td>7.902518</td>\n",
       "      <td>126.539568</td>\n",
       "    </tr>\n",
       "    <tr>\n",
       "      <th>Family</th>\n",
       "      <td>7.850000</td>\n",
       "      <td>107.500000</td>\n",
       "    </tr>\n",
       "    <tr>\n",
       "      <th>Fantasy</th>\n",
       "      <td>7.700000</td>\n",
       "      <td>112.000000</td>\n",
       "    </tr>\n",
       "    <tr>\n",
       "      <th>Film-Noir</th>\n",
       "      <td>8.033333</td>\n",
       "      <td>97.333333</td>\n",
       "    </tr>\n",
       "    <tr>\n",
       "      <th>History</th>\n",
       "      <td>8.000000</td>\n",
       "      <td>66.000000</td>\n",
       "    </tr>\n",
       "    <tr>\n",
       "      <th>Horror</th>\n",
       "      <td>7.806897</td>\n",
       "      <td>102.517241</td>\n",
       "    </tr>\n",
       "    <tr>\n",
       "      <th>Mystery</th>\n",
       "      <td>7.975000</td>\n",
       "      <td>115.625000</td>\n",
       "    </tr>\n",
       "    <tr>\n",
       "      <th>Sci-Fi</th>\n",
       "      <td>7.920000</td>\n",
       "      <td>109.000000</td>\n",
       "    </tr>\n",
       "    <tr>\n",
       "      <th>Thriller</th>\n",
       "      <td>7.680000</td>\n",
       "      <td>114.200000</td>\n",
       "    </tr>\n",
       "    <tr>\n",
       "      <th>Western</th>\n",
       "      <td>8.255556</td>\n",
       "      <td>136.666667</td>\n",
       "    </tr>\n",
       "  </tbody>\n",
       "</table>\n",
       "</div>"
      ],
      "text/plain": [
       "           star_rating    duration\n",
       "genre                             \n",
       "Action        7.884559  126.485294\n",
       "Adventure     7.933333  134.840000\n",
       "Animation     7.914516   96.596774\n",
       "Biography     7.862338  131.844156\n",
       "Comedy        7.822436  107.602564\n",
       "Crime         7.916935  122.298387\n",
       "Drama         7.902518  126.539568\n",
       "Family        7.850000  107.500000\n",
       "Fantasy       7.700000  112.000000\n",
       "Film-Noir     8.033333   97.333333\n",
       "History       8.000000   66.000000\n",
       "Horror        7.806897  102.517241\n",
       "Mystery       7.975000  115.625000\n",
       "Sci-Fi        7.920000  109.000000\n",
       "Thriller      7.680000  114.200000\n",
       "Western       8.255556  136.666667"
      ]
     },
     "execution_count": 170,
     "metadata": {},
     "output_type": "execute_result"
    }
   ],
   "source": [
    "# Answer:\n",
    "movies.groupby(['genre']).mean()"
   ]
  },
  {
   "cell_type": "markdown",
   "metadata": {},
   "source": [
    "## Advanced level"
   ]
  },
  {
   "cell_type": "markdown",
   "metadata": {},
   "source": [
    "#### Visualize the relationship between content rating and duration."
   ]
  },
  {
   "cell_type": "code",
   "execution_count": 141,
   "metadata": {},
   "outputs": [
    {
     "data": {
      "image/png": "[encoded data removed]",
      "text/plain": [
       "<Figure size 864x576 with 1 Axes>"
      ]
     },
     "metadata": {},
     "output_type": "display_data"
    }
   ],
   "source": [
    "# Answer:\n",
    "movies.boxplot(column='duration', by='content_rating', figsize=(12,8));"
   ]
  },
  {
   "cell_type": "markdown",
   "metadata": {},
   "source": [
    "#### Determine the top rated movie (by star rating) for each genre."
   ]
  },
  {
   "cell_type": "code",
   "execution_count": 175,
   "metadata": {},
   "outputs": [
    {
     "data": {
      "text/html": [
       "<div>\n",
       "<style scoped>\n",
       "    .dataframe tbody tr th:only-of-type {\n",
       "        vertical-align: middle;\n",
       "    }\n",
       "\n",
       "    .dataframe tbody tr th {\n",
       "        vertical-align: top;\n",
       "    }\n",
       "\n",
       "    .dataframe thead th {\n",
       "        text-align: right;\n",
       "    }\n",
       "</style>\n",
       "<table border=\"1\" class=\"dataframe\">\n",
       "  <thead>\n",
       "    <tr style=\"text-align: right;\">\n",
       "      <th></th>\n",
       "      <th>star_rating</th>\n",
       "      <th>title</th>\n",
       "      <th>duration</th>\n",
       "      <th>actors_list</th>\n",
       "    </tr>\n",
       "    <tr>\n",
       "      <th>genre</th>\n",
       "      <th></th>\n",
       "      <th></th>\n",
       "      <th></th>\n",
       "      <th></th>\n",
       "    </tr>\n",
       "  </thead>\n",
       "  <tbody>\n",
       "    <tr>\n",
       "      <th>Action</th>\n",
       "      <td>9.0</td>\n",
       "      <td>Yojimbo</td>\n",
       "      <td>205</td>\n",
       "      <td>[u'Ziyi Zhang', u'Takeshi Kaneshiro', u'Andy L...</td>\n",
       "    </tr>\n",
       "    <tr>\n",
       "      <th>Adventure</th>\n",
       "      <td>8.9</td>\n",
       "      <td>True Grit</td>\n",
       "      <td>224</td>\n",
       "      <td>[u'Yves Montand', u'Charles Vanel', u'Peter va...</td>\n",
       "    </tr>\n",
       "    <tr>\n",
       "      <th>Animation</th>\n",
       "      <td>8.6</td>\n",
       "      <td>Wreck-It Ralph</td>\n",
       "      <td>134</td>\n",
       "      <td>[u'Y\\xf4ji Matsuda', u'Yuriko Ishida', u'Y\\xfb...</td>\n",
       "    </tr>\n",
       "    <tr>\n",
       "      <th>Biography</th>\n",
       "      <td>8.9</td>\n",
       "      <td>Walk the Line</td>\n",
       "      <td>202</td>\n",
       "      <td>[u'Will Smith', u'Thandie Newton', u'Jaden Smi...</td>\n",
       "    </tr>\n",
       "    <tr>\n",
       "      <th>Comedy</th>\n",
       "      <td>8.6</td>\n",
       "      <td>Zombieland</td>\n",
       "      <td>187</td>\n",
       "      <td>[u'Zooey Deschanel', u'Joseph Gordon-Levitt', ...</td>\n",
       "    </tr>\n",
       "    <tr>\n",
       "      <th>Crime</th>\n",
       "      <td>9.3</td>\n",
       "      <td>Zodiac</td>\n",
       "      <td>229</td>\n",
       "      <td>[u'Yeong-ae Lee', u'Min-sik Choi', u'Shi-hoo K...</td>\n",
       "    </tr>\n",
       "    <tr>\n",
       "      <th>Drama</th>\n",
       "      <td>8.9</td>\n",
       "      <td>Zulu</td>\n",
       "      <td>242</td>\n",
       "      <td>[u'William Holden', u'Gloria Swanson', u'Erich...</td>\n",
       "    </tr>\n",
       "    <tr>\n",
       "      <th>Family</th>\n",
       "      <td>7.9</td>\n",
       "      <td>Willy Wonka &amp; the Chocolate Factory</td>\n",
       "      <td>115</td>\n",
       "      <td>[u'Henry Thomas', u'Drew Barrymore', u'Peter C...</td>\n",
       "    </tr>\n",
       "    <tr>\n",
       "      <th>Fantasy</th>\n",
       "      <td>7.7</td>\n",
       "      <td>The City of Lost Children</td>\n",
       "      <td>112</td>\n",
       "      <td>[u'Ron Perlman', u'Daniel Emilfork', u'Judith ...</td>\n",
       "    </tr>\n",
       "    <tr>\n",
       "      <th>Film-Noir</th>\n",
       "      <td>8.3</td>\n",
       "      <td>The Third Man</td>\n",
       "      <td>111</td>\n",
       "      <td>[u'Orson Welles', u'Joseph Cotten', u'Alida Va...</td>\n",
       "    </tr>\n",
       "    <tr>\n",
       "      <th>History</th>\n",
       "      <td>8.0</td>\n",
       "      <td>Battleship Potemkin</td>\n",
       "      <td>66</td>\n",
       "      <td>[u'Aleksandr Antonov', u'Vladimir Barsky', u'G...</td>\n",
       "    </tr>\n",
       "    <tr>\n",
       "      <th>Horror</th>\n",
       "      <td>8.6</td>\n",
       "      <td>[Rec]</td>\n",
       "      <td>146</td>\n",
       "      <td>[u'Simone Signoret', u'V\\xe9ra Clouzot', u'Pau...</td>\n",
       "    </tr>\n",
       "    <tr>\n",
       "      <th>Mystery</th>\n",
       "      <td>8.6</td>\n",
       "      <td>Vertigo</td>\n",
       "      <td>160</td>\n",
       "      <td>[u'Rufus Sewell', u'Kiefer Sutherland', u'Jenn...</td>\n",
       "    </tr>\n",
       "    <tr>\n",
       "      <th>Sci-Fi</th>\n",
       "      <td>8.2</td>\n",
       "      <td>The Day the Earth Stood Still</td>\n",
       "      <td>132</td>\n",
       "      <td>[u'Sandra Bullock', u'George Clooney', u'Ed Ha...</td>\n",
       "    </tr>\n",
       "    <tr>\n",
       "      <th>Thriller</th>\n",
       "      <td>8.0</td>\n",
       "      <td>The Man Who Knew Too Much</td>\n",
       "      <td>120</td>\n",
       "      <td>[u'Teresa Wright', u'Joseph Cotten', u'Macdona...</td>\n",
       "    </tr>\n",
       "    <tr>\n",
       "      <th>Western</th>\n",
       "      <td>8.9</td>\n",
       "      <td>Unforgiven</td>\n",
       "      <td>175</td>\n",
       "      <td>[u'John Wayne', u'Dean Martin', u'Ricky Nelson']</td>\n",
       "    </tr>\n",
       "  </tbody>\n",
       "</table>\n",
       "</div>"
      ],
      "text/plain": [
       "           star_rating                                title  duration  \\\n",
       "genre                                                                   \n",
       "Action             9.0                              Yojimbo       205   \n",
       "Adventure          8.9                            True Grit       224   \n",
       "Animation          8.6                       Wreck-It Ralph       134   \n",
       "Biography          8.9                        Walk the Line       202   \n",
       "Comedy             8.6                           Zombieland       187   \n",
       "Crime              9.3                               Zodiac       229   \n",
       "Drama              8.9                                 Zulu       242   \n",
       "Family             7.9  Willy Wonka & the Chocolate Factory       115   \n",
       "Fantasy            7.7            The City of Lost Children       112   \n",
       "Film-Noir          8.3                        The Third Man       111   \n",
       "History            8.0                  Battleship Potemkin        66   \n",
       "Horror             8.6                                [Rec]       146   \n",
       "Mystery            8.6                              Vertigo       160   \n",
       "Sci-Fi             8.2        The Day the Earth Stood Still       132   \n",
       "Thriller           8.0            The Man Who Knew Too Much       120   \n",
       "Western            8.9                           Unforgiven       175   \n",
       "\n",
       "                                                 actors_list  \n",
       "genre                                                         \n",
       "Action     [u'Ziyi Zhang', u'Takeshi Kaneshiro', u'Andy L...  \n",
       "Adventure  [u'Yves Montand', u'Charles Vanel', u'Peter va...  \n",
       "Animation  [u'Y\\xf4ji Matsuda', u'Yuriko Ishida', u'Y\\xfb...  \n",
       "Biography  [u'Will Smith', u'Thandie Newton', u'Jaden Smi...  \n",
       "Comedy     [u'Zooey Deschanel', u'Joseph Gordon-Levitt', ...  \n",
       "Crime      [u'Yeong-ae Lee', u'Min-sik Choi', u'Shi-hoo K...  \n",
       "Drama      [u'William Holden', u'Gloria Swanson', u'Erich...  \n",
       "Family     [u'Henry Thomas', u'Drew Barrymore', u'Peter C...  \n",
       "Fantasy    [u'Ron Perlman', u'Daniel Emilfork', u'Judith ...  \n",
       "Film-Noir  [u'Orson Welles', u'Joseph Cotten', u'Alida Va...  \n",
       "History    [u'Aleksandr Antonov', u'Vladimir Barsky', u'G...  \n",
       "Horror     [u'Simone Signoret', u'V\\xe9ra Clouzot', u'Pau...  \n",
       "Mystery    [u'Rufus Sewell', u'Kiefer Sutherland', u'Jenn...  \n",
       "Sci-Fi     [u'Sandra Bullock', u'George Clooney', u'Ed Ha...  \n",
       "Thriller   [u'Teresa Wright', u'Joseph Cotten', u'Macdona...  \n",
       "Western     [u'John Wayne', u'Dean Martin', u'Ricky Nelson']  "
      ]
     },
     "execution_count": 175,
     "metadata": {},
     "output_type": "execute_result"
    }
   ],
   "source": [
    "# Answer:\n",
    "movies.groupby('genre').max()"
   ]
  },
  {
   "cell_type": "markdown",
   "metadata": {},
   "source": [
    "#### Check if there are multiple movies with the same title, and if so, determine if they are actually duplicates."
   ]
  },
  {
   "cell_type": "code",
   "execution_count": 166,
   "metadata": {},
   "outputs": [
    {
     "name": "stdout",
     "output_type": "stream",
     "text": [
      "     star_rating                            title content_rating      genre  \\\n",
      "482          7.8  The Girl with the Dragon Tattoo              R      Crime   \n",
      "905          7.5                          Dracula              R     Horror   \n",
      "924          7.5                   Les Miserables          PG-13      Crime   \n",
      "936          7.4                        True Grit            NaN  Adventure   \n",
      "\n",
      "     duration                                        actors_list  \n",
      "482       152  [u'Michael Nyqvist', u'Noomi Rapace', u'Ewa Fr...  \n",
      "905       128  [u'Gary Oldman', u'Winona Ryder', u'Anthony Ho...  \n",
      "924       134  [u'Liam Neeson', u'Geoffrey Rush', u'Uma Thurm...  \n",
      "936       128    [u'John Wayne', u'Kim Darby', u'Glen Campbell']  \n",
      "     star_rating                            title content_rating      genre  \\\n",
      "466          7.9  The Girl with the Dragon Tattoo              R      Crime   \n",
      "662          7.7                        True Grit          PG-13  Adventure   \n",
      "678          7.7                   Les Miserables          PG-13      Drama   \n",
      "703          7.6                          Dracula       APPROVED     Horror   \n",
      "\n",
      "     duration                                        actors_list  \n",
      "466       158  [u'Daniel Craig', u'Rooney Mara', u'Christophe...  \n",
      "662       110  [u'Jeff Bridges', u'Matt Damon', u'Hailee Stei...  \n",
      "678       158  [u'Hugh Jackman', u'Russell Crowe', u'Anne Hat...  \n",
      "703        85  [u'Bela Lugosi', u'Helen Chandler', u'David Ma...  \n"
     ]
    }
   ],
   "source": [
    "# Answer:\n",
    "print(str(movies[movies.title.duplicated(keep='first')]))\n",
    "print(str(movies[movies.title.duplicated(keep='last')]))\n"
   ]
  },
  {
   "cell_type": "markdown",
   "metadata": {},
   "source": [
    "Not actual duplicates, simply re-makes. "
   ]
  },
  {
   "cell_type": "markdown",
   "metadata": {
    "collapsed": true
   },
   "source": [
    "#### Calculate the average star rating for each genre, but only include genres with at least 10 movies\n"
   ]
  },
  {
   "cell_type": "markdown",
   "metadata": {},
   "source": [
    "#### Option 1: manually create a list of relevant genres, then filter using that list"
   ]
  },
  {
   "cell_type": "code",
   "execution_count": 178,
   "metadata": {},
   "outputs": [
    {
     "data": {
      "text/plain": [
       "genre\n",
       "Action       7.884559\n",
       "Adventure    7.933333\n",
       "Animation    7.914516\n",
       "Biography    7.862338\n",
       "Comedy       7.822436\n",
       "Crime        7.916935\n",
       "Drama        7.902518\n",
       "Horror       7.806897\n",
       "Name: star_rating, dtype: float64"
      ]
     },
     "execution_count": 178,
     "metadata": {},
     "output_type": "execute_result"
    }
   ],
   "source": [
    "# Answer:\n",
    "movies.genre.value_counts()\n",
    "relevant_genres = ['Action', 'Adventure', 'Animation', 'Biography', 'Comedy', 'Crime', 'Drama', 'Horror']\n",
    "movies[movies.genre.isin(relevant_genres)].groupby('genre').star_rating.mean()"
   ]
  },
  {
   "cell_type": "markdown",
   "metadata": {},
   "source": [
    "#### Option 2: automatically create a list of relevant genres by saving the value_counts and then filtering"
   ]
  },
  {
   "cell_type": "code",
   "execution_count": null,
   "metadata": {
    "collapsed": true
   },
   "outputs": [],
   "source": [
    "# Answer:"
   ]
  },
  {
   "cell_type": "markdown",
   "metadata": {},
   "source": [
    "#### Option 3: calculate the average star rating for all genres, then filter using a boolean Series"
   ]
  },
  {
   "cell_type": "code",
   "execution_count": null,
   "metadata": {
    "collapsed": true
   },
   "outputs": [],
   "source": [
    "# Answer:"
   ]
  },
  {
   "cell_type": "markdown",
   "metadata": {},
   "source": [
    "#### Option 4: aggregate by count and mean, then filter using the count"
   ]
  },
  {
   "cell_type": "code",
   "execution_count": null,
   "metadata": {
    "collapsed": true
   },
   "outputs": [],
   "source": [
    "# Answer:"
   ]
  },
  {
   "cell_type": "markdown",
   "metadata": {},
   "source": [
    "## Bonus"
   ]
  },
  {
   "cell_type": "markdown",
   "metadata": {
    "collapsed": true
   },
   "source": [
    "#### Figure out something \"interesting\" using the actors data!"
   ]
  },
  {
   "cell_type": "code",
   "execution_count": null,
   "metadata": {
    "collapsed": true
   },
   "outputs": [],
   "source": []
  }
 ],
 "metadata": {
  "kernelspec": {
   "display_name": "Python 3",
   "language": "python",
   "name": "python3"
  },
  "language_info": {
   "codemirror_mode": {
    "name": "ipython",
    "version": 3
   },
   "file_extension": ".py",
   "mimetype": "text/x-python",
   "name": "python",
   "nbconvert_exporter": "python",
   "pygments_lexer": "ipython3",
   "version": "3.6.5"
  }
 },
 "nbformat": 4,
 "nbformat_minor": 1
}
