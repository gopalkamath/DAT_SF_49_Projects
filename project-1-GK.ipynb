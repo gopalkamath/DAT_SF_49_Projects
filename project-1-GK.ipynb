{
 "cells": [
  {
   "cell_type": "markdown",
   "metadata": {},
   "source": [
    "<img src=\"http://imgur.com/1ZcRyrc.png\" style=\"float: left; margin: 20px; height: 55px\">\n",
    "\n",
    "# Project 1: Python Coding Exercises\n",
    "\n",
    "_Authors: Joseph Nelson (DC)_\n",
    "\n",
    "---"
   ]
  },
  {
   "cell_type": "markdown",
   "metadata": {},
   "source": [
    "The following code challenges are drawn from common exercises used in technical interviews.\n",
    "\n",
    "Please note that there may be several ways to approach each challenge. If you get stuck, try mapping out your approach in pseudocode first. Finally, while solutions to problems like these may be found online, remember that if you copy/paste code that you can't explain, you'll be missing out on the point of the project. The only way to truly learn a new skill is through practice, trial, and error - we can only help you improve by understanding where you are having trouble."
   ]
  },
  {
   "cell_type": "markdown",
   "metadata": {},
   "source": [
    "### Challenge 1: Largest Palindrome\n",
    "A palindromic number reads the same both ways. For example, 1234321 is a palindrome. The largest palindrome made from the product of two two-digit numbers is 9009 = 91 × 99. Find the largest palindrome made from the product of two three-digit numbers. Afterward, write a brief explanation walking through your code's logic in markdown."
   ]
  },
  {
   "cell_type": "code",
   "execution_count": 224,
   "metadata": {
    "scrolled": false
   },
   "outputs": [
    {
     "name": "stdout",
     "output_type": "stream",
     "text": [
      "906609\n"
     ]
    }
   ],
   "source": [
    "largest_pal=0\n",
    "\n",
    "for n in range (100,1000):\n",
    "    for p in range (100, n):\n",
    "        product=p*n\n",
    "        s=str(product)\n",
    "        if s==s[::-1] and product>largest_pal:\n",
    "            largest_pal=product\n",
    "print(largest_pal)"
   ]
  },
  {
   "cell_type": "markdown",
   "metadata": {},
   "source": [
    "I first created a for-loop from 100 to 1000 then nested a for-loop to multiply through values in the range to find all of the products. I then created an if-statement to check if the string converted products were palindromes by checking for equality between the string and the reverse of the string. When validating this result with online sources, I couldn't understand why I had to check whether the product was larger than my largest_pal variable. I was previously outputting 580085. "
   ]
  },
  {
   "cell_type": "markdown",
   "metadata": {},
   "source": [
    "\n",
    "### Challenge 2: Summation of Primes\n",
    "The sum of the primes below 10 is 2 + 3 + 5 + 7 = 17. Find the sum of all the primes below 2,000. Afterward, write a brief explanation walking through your code's logic in markdown."
   ]
  },
  {
   "cell_type": "code",
   "execution_count": 220,
   "metadata": {},
   "outputs": [
    {
     "name": "stdout",
     "output_type": "stream",
     "text": [
      "277050\n"
     ]
    }
   ],
   "source": [
    "'''prime_sum=0\n",
    "\n",
    "for p in range (2, 10):\n",
    "    for n in range (2, p):\n",
    "        if p%n==0:\n",
    "            break\n",
    "        else:\n",
    "            prime_sum+=p\n",
    "            \n",
    "print (str(prime_sum))'''\n",
    "\n",
    "def prime_check(p):\n",
    "    for n in range (2,p):\n",
    "        if p%n==0:\n",
    "            return False\n",
    "    return True\n",
    "\n",
    "prime_sum=0\n",
    "\n",
    "for n in range(2,2000):\n",
    "    if prime_check(n):\n",
    "        prime_sum+=n\n",
    "        \n",
    "print (prime_sum)\n"
   ]
  },
  {
   "cell_type": "markdown",
   "metadata": {},
   "source": [
    "I first created a function to determine whether a number is a prime by checking it against numbers below it and utilizing the mod function. If a particular number produces a zero, it is not a prime. I created a for-loop to check the values from 2 to 2000 in the prime_check function, adding values to the prime_sum variable when True. I tried for the longest time (many hours) to get this to work via a nested for-loop as visible in the commented section. I know that it is over-iterating, but can't figure out why. Any tips?"
   ]
  },
  {
   "cell_type": "markdown",
   "metadata": {},
   "source": [
    "### Challenge 3: Multiples of 3 and 5\n",
    "If we list all of the natural numbers below 10 that are multiples of 3 or 5, we get 3, 5, 6, and 9. The sum of these multiples is 23. Find the sum of all the multiples of 3 and 5 below 1,000. Afterward, write a brief explanation walking through your code's logic in markdown."
   ]
  },
  {
   "cell_type": "code",
   "execution_count": 33,
   "metadata": {},
   "outputs": [
    {
     "name": "stdout",
     "output_type": "stream",
     "text": [
      "233168\n"
     ]
    }
   ],
   "source": [
    "c=0\n",
    "\n",
    "for n in range (3,1000):\n",
    "    if n%3==0:\n",
    "        c+=n\n",
    "    elif n%5==0:\n",
    "        c+=n\n",
    "    else:\n",
    "        c=c\n",
    "print (str(c))"
   ]
  },
  {
   "cell_type": "markdown",
   "metadata": {},
   "source": [
    "Created a for loop in which I iterate from range 3 to 1000 and perform mod operation on these values with 3 and 5. Every mod that returns 0 should be added into a variable (c) which represents the sum of all multiples of 3 and 5."
   ]
  },
  {
   "cell_type": "markdown",
   "metadata": {},
   "source": [
    "### Challenge 4: String Compressor\n",
    "Implement a method to perform basic string compression using the counts of repeated characters. (This is called run-length encoding.) For example, the string \"aabcccccaaa\" would become a2b1c5a3. If the “compressed” string would not become smaller than the original string, your method should return the original string. You can assume the string has only uppercase and lowercase letters (a–z). Specify whether your solution is case sensitive or case insensitive and what you would need to change to make it the other. Afterward, write a brief explanation walking through your code's logic in markdown."
   ]
  },
  {
   "cell_type": "code",
   "execution_count": 218,
   "metadata": {},
   "outputs": [
    {
     "data": {
      "text/plain": [
       "'da234b234'"
      ]
     },
     "execution_count": 218,
     "metadata": {},
     "output_type": "execute_result"
    }
   ],
   "source": [
    "#NEEDS WORK        \n",
    "\n",
    "def compressor(string):\n",
    "    \n",
    "    s= string[0]\n",
    "    count=1\n",
    "\n",
    "    for n in range (0, len(string)-1):\n",
    "        if string[n]==string[n+1]:\n",
    "            count+=1\n",
    "        else:\n",
    "            count=1\n",
    "            s+=string[n+1]\n",
    "        if count>1:\n",
    "            s+=str(count)\n",
    "    return s\n",
    "\n",
    "compressor(\"daaaabbbb\")\n"
   ]
  },
  {
   "cell_type": "markdown",
   "metadata": {},
   "source": [
    "Here I created a function beginning with a string which equates to the first character in the input string. I made a for-loop which runs from 0 (first character in string) to len(string)-1 (last character in string) and checked whether the previous character was equal to the following character. If so, I added one to the count (to count how many times this character was repeated). If it was not, the count remained at 1 and the loop went on to check the next character and so forth. I then used the total count (if over 1) to substitute the repeated letters. Unfortunately, I'm having a problem with previous counts showing up in the result. "
   ]
  },
  {
   "cell_type": "markdown",
   "metadata": {},
   "source": [
    "### *BONUS* Challenge: FizzBuzz\n",
    "Write a program that prints all of the numbers from 1 to 100. For multiples of 3, instead of the number, print \"Fizz;\" for multiples of 5, print \"Buzz.\" For numbers that are multiples of both 3 and 5, print \"FizzBuzz.\" Afterward, write a brief explanation walking through your code's logic in markdown."
   ]
  },
  {
   "cell_type": "code",
   "execution_count": 34,
   "metadata": {
    "scrolled": false
   },
   "outputs": [
    {
     "name": "stdout",
     "output_type": "stream",
     "text": [
      "1\n",
      "2\n",
      "3 Fizz\n",
      "4\n",
      "5 Buzz\n",
      "6 Fizz\n",
      "7\n",
      "8\n",
      "9 Fizz\n",
      "10 Buzz\n",
      "11\n",
      "12 Fizz\n",
      "13\n",
      "14\n",
      "15 FizzBuzz\n",
      "16\n",
      "17\n",
      "18 Fizz\n",
      "19\n",
      "20 Buzz\n",
      "21 Fizz\n",
      "22\n",
      "23\n",
      "24 Fizz\n",
      "25 Buzz\n",
      "26\n",
      "27 Fizz\n",
      "28\n",
      "29\n",
      "30 FizzBuzz\n",
      "31\n",
      "32\n",
      "33 Fizz\n",
      "34\n",
      "35 Buzz\n",
      "36 Fizz\n",
      "37\n",
      "38\n",
      "39 Fizz\n",
      "40 Buzz\n",
      "41\n",
      "42 Fizz\n",
      "43\n",
      "44\n",
      "45 FizzBuzz\n",
      "46\n",
      "47\n",
      "48 Fizz\n",
      "49\n",
      "50 Buzz\n",
      "51 Fizz\n",
      "52\n",
      "53\n",
      "54 Fizz\n",
      "55 Buzz\n",
      "56\n",
      "57 Fizz\n",
      "58\n",
      "59\n",
      "60 FizzBuzz\n",
      "61\n",
      "62\n",
      "63 Fizz\n",
      "64\n",
      "65 Buzz\n",
      "66 Fizz\n",
      "67\n",
      "68\n",
      "69 Fizz\n",
      "70 Buzz\n",
      "71\n",
      "72 Fizz\n",
      "73\n",
      "74\n",
      "75 FizzBuzz\n",
      "76\n",
      "77\n",
      "78 Fizz\n",
      "79\n",
      "80 Buzz\n",
      "81 Fizz\n",
      "82\n",
      "83\n",
      "84 Fizz\n",
      "85 Buzz\n",
      "86\n",
      "87 Fizz\n",
      "88\n",
      "89\n",
      "90 FizzBuzz\n",
      "91\n",
      "92\n",
      "93 Fizz\n",
      "94\n",
      "95 Buzz\n",
      "96 Fizz\n",
      "97\n",
      "98\n",
      "99 Fizz\n",
      "100 Buzz\n"
     ]
    }
   ],
   "source": [
    "for n in range (1, 101):\n",
    "    if n%15==0:\n",
    "        print (str(n)+ ' FizzBuzz')\n",
    "    elif n%3==0:\n",
    "        print (str(n)+ ' Fizz')\n",
    "    elif n%5==0:\n",
    "        print (str(n)+ ' Buzz')\n",
    "    else: print (str(n))\n",
    "        "
   ]
  },
  {
   "cell_type": "markdown",
   "metadata": {},
   "source": [
    "I started by creating a for loop from 1-100 (inclusive) to define my range of values over which I'd iterate my if-else statement. Then I started with the fizzbuzz condition by checking for multiples of 15 using the mod operator. I then did the same with 3 (fizz) and then 5 (buzz) and included their corresponding print statement outputs."
   ]
  }
 ],
 "metadata": {
  "anaconda-cloud": {},
  "kernelspec": {
   "display_name": "Python 3",
   "language": "python",
   "name": "python3"
  },
  "language_info": {
   "codemirror_mode": {
    "name": "ipython",
    "version": 3
   },
   "file_extension": ".py",
   "mimetype": "text/x-python",
   "name": "python",
   "nbconvert_exporter": "python",
   "pygments_lexer": "ipython3",
   "version": "3.6.5"
  }
 },
 "nbformat": 4,
 "nbformat_minor": 2
}
