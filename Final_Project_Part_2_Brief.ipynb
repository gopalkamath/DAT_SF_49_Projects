{
 "cells": [
  {
   "cell_type": "code",
   "execution_count": 4,
   "metadata": {},
   "outputs": [],
   "source": [
    "import pandas as pd\n",
    "import seaborn as sns\n",
    "import matplotlib.pyplot as plt\n",
    "\n",
    "%matplotlib inline\n",
    "\n"
   ]
  },
  {
   "cell_type": "code",
   "execution_count": 16,
   "metadata": {},
   "outputs": [],
   "source": [
    "sA= pd.read_csv('./data/CBI_Jan_2006_2012_All.csv')"
   ]
  },
  {
   "cell_type": "code",
   "execution_count": 17,
   "metadata": {},
   "outputs": [
    {
     "data": {
      "text/html": [
       "<div>\n",
       "<style scoped>\n",
       "    .dataframe tbody tr th:only-of-type {\n",
       "        vertical-align: middle;\n",
       "    }\n",
       "\n",
       "    .dataframe tbody tr th {\n",
       "        vertical-align: top;\n",
       "    }\n",
       "\n",
       "    .dataframe thead th {\n",
       "        text-align: right;\n",
       "    }\n",
       "</style>\n",
       "<table border=\"1\" class=\"dataframe\">\n",
       "  <thead>\n",
       "    <tr style=\"text-align: right;\">\n",
       "      <th></th>\n",
       "      <th>Company</th>\n",
       "      <th>Contacts</th>\n",
       "      <th>URL</th>\n",
       "      <th>Company Description</th>\n",
       "      <th>Round</th>\n",
       "      <th>Date</th>\n",
       "      <th>Amount</th>\n",
       "      <th>Round Investors</th>\n",
       "      <th>All Investors</th>\n",
       "      <th>Total Funding</th>\n",
       "      <th>Sector</th>\n",
       "      <th>Industry</th>\n",
       "      <th>Sub-Industry</th>\n",
       "      <th>Country</th>\n",
       "      <th>State</th>\n",
       "      <th>City</th>\n",
       "    </tr>\n",
       "  </thead>\n",
       "  <tbody>\n",
       "    <tr>\n",
       "      <th>0</th>\n",
       "      <td>HackerRank</td>\n",
       "      <td>33.0</td>\n",
       "      <td>http://www.hackerrank.com</td>\n",
       "      <td>HackerRank, formerly Interviewstreet, is a fre...</td>\n",
       "      <td>Series A</td>\n",
       "      <td>2012-01-01</td>\n",
       "      <td>3.0</td>\n",
       "      <td>Khosla Ventures</td>\n",
       "      <td>Battery Ventures;Chartline Capital Partners;JM...</td>\n",
       "      <td>54.02</td>\n",
       "      <td>Internet</td>\n",
       "      <td>Internet Software &amp; Services</td>\n",
       "      <td>HR &amp; Workforce Management</td>\n",
       "      <td>United States</td>\n",
       "      <td>California</td>\n",
       "      <td>Palo Alto</td>\n",
       "    </tr>\n",
       "    <tr>\n",
       "      <th>1</th>\n",
       "      <td>WorldDesk</td>\n",
       "      <td>NaN</td>\n",
       "      <td>http://www.myworlddesk.com</td>\n",
       "      <td>WorldDesk leverages a unique, abstraction laye...</td>\n",
       "      <td>Series A</td>\n",
       "      <td>2011-12-23</td>\n",
       "      <td>NaN</td>\n",
       "      <td>Lough Shore Investments</td>\n",
       "      <td>DeskStream;Lough Shore Investments</td>\n",
       "      <td>1.25</td>\n",
       "      <td>Internet</td>\n",
       "      <td>Internet Software &amp; Services</td>\n",
       "      <td>Browser Software/Plugins</td>\n",
       "      <td>United States</td>\n",
       "      <td>California</td>\n",
       "      <td>Menlo Park</td>\n",
       "    </tr>\n",
       "    <tr>\n",
       "      <th>2</th>\n",
       "      <td>FarmLink</td>\n",
       "      <td>NaN</td>\n",
       "      <td>http://www.farmlink.com</td>\n",
       "      <td>FarmLink, formerly MachineryLink, offers a set...</td>\n",
       "      <td>Series A - II</td>\n",
       "      <td>2011-12-22</td>\n",
       "      <td>10.0</td>\n",
       "      <td>OpenAir Equity Partners</td>\n",
       "      <td>Adams Street Partners;Alpha Capital Partners;D...</td>\n",
       "      <td>150.48</td>\n",
       "      <td>Internet</td>\n",
       "      <td>Internet Software &amp; Services</td>\n",
       "      <td>Business Intelligence, Analytics &amp; Performance...</td>\n",
       "      <td>United States</td>\n",
       "      <td>Missouri</td>\n",
       "      <td>Kansas City</td>\n",
       "    </tr>\n",
       "    <tr>\n",
       "      <th>3</th>\n",
       "      <td>Spendsetter</td>\n",
       "      <td>1.0</td>\n",
       "      <td>http://www.spendsetter.com</td>\n",
       "      <td>Spendsetter, formerly Moontoast, is looking to...</td>\n",
       "      <td>Series A</td>\n",
       "      <td>2011-12-21</td>\n",
       "      <td>6.0</td>\n",
       "      <td>Martin Ventures;Stephen Collins</td>\n",
       "      <td>Jumpstart Foundry;Martin Ventures;Stephen Collins</td>\n",
       "      <td>18.00</td>\n",
       "      <td>Internet</td>\n",
       "      <td>Internet Software &amp; Services</td>\n",
       "      <td>Advertising, Sales &amp; Marketing</td>\n",
       "      <td>United States</td>\n",
       "      <td>Tennessee</td>\n",
       "      <td>Nashville</td>\n",
       "    </tr>\n",
       "    <tr>\n",
       "      <th>4</th>\n",
       "      <td>UsingMiles</td>\n",
       "      <td>NaN</td>\n",
       "      <td>http://www.usingmiles.com</td>\n",
       "      <td>UsingMiles (UM) offers a miles management solu...</td>\n",
       "      <td>Series A - II</td>\n",
       "      <td>2011-12-21</td>\n",
       "      <td>0.3</td>\n",
       "      <td>iSherpa Capital</td>\n",
       "      <td>Brett Jackson;Fabrice Grinda;iSherpa Capital;J...</td>\n",
       "      <td>3.52</td>\n",
       "      <td>Internet</td>\n",
       "      <td>eCommerce</td>\n",
       "      <td>Travel (internet)</td>\n",
       "      <td>United States</td>\n",
       "      <td>Colorado</td>\n",
       "      <td>Denver</td>\n",
       "    </tr>\n",
       "  </tbody>\n",
       "</table>\n",
       "</div>"
      ],
      "text/plain": [
       "       Company  Contacts                         URL  \\\n",
       "0   HackerRank      33.0   http://www.hackerrank.com   \n",
       "1    WorldDesk       NaN  http://www.myworlddesk.com   \n",
       "2     FarmLink       NaN     http://www.farmlink.com   \n",
       "3  Spendsetter       1.0  http://www.spendsetter.com   \n",
       "4   UsingMiles       NaN   http://www.usingmiles.com   \n",
       "\n",
       "                                 Company Description          Round  \\\n",
       "0  HackerRank, formerly Interviewstreet, is a fre...       Series A   \n",
       "1  WorldDesk leverages a unique, abstraction laye...       Series A   \n",
       "2  FarmLink, formerly MachineryLink, offers a set...  Series A - II   \n",
       "3  Spendsetter, formerly Moontoast, is looking to...       Series A   \n",
       "4  UsingMiles (UM) offers a miles management solu...  Series A - II   \n",
       "\n",
       "         Date  Amount                  Round Investors  \\\n",
       "0  2012-01-01     3.0                  Khosla Ventures   \n",
       "1  2011-12-23     NaN          Lough Shore Investments   \n",
       "2  2011-12-22    10.0          OpenAir Equity Partners   \n",
       "3  2011-12-21     6.0  Martin Ventures;Stephen Collins   \n",
       "4  2011-12-21     0.3                  iSherpa Capital   \n",
       "\n",
       "                                       All Investors  Total Funding    Sector  \\\n",
       "0  Battery Ventures;Chartline Capital Partners;JM...          54.02  Internet   \n",
       "1                 DeskStream;Lough Shore Investments           1.25  Internet   \n",
       "2  Adams Street Partners;Alpha Capital Partners;D...         150.48  Internet   \n",
       "3  Jumpstart Foundry;Martin Ventures;Stephen Collins          18.00  Internet   \n",
       "4  Brett Jackson;Fabrice Grinda;iSherpa Capital;J...           3.52  Internet   \n",
       "\n",
       "                       Industry  \\\n",
       "0  Internet Software & Services   \n",
       "1  Internet Software & Services   \n",
       "2  Internet Software & Services   \n",
       "3  Internet Software & Services   \n",
       "4                     eCommerce   \n",
       "\n",
       "                                        Sub-Industry        Country  \\\n",
       "0                          HR & Workforce Management  United States   \n",
       "1                           Browser Software/Plugins  United States   \n",
       "2  Business Intelligence, Analytics & Performance...  United States   \n",
       "3                     Advertising, Sales & Marketing  United States   \n",
       "4                                  Travel (internet)  United States   \n",
       "\n",
       "        State         City  \n",
       "0  California    Palo Alto  \n",
       "1  California   Menlo Park  \n",
       "2    Missouri  Kansas City  \n",
       "3   Tennessee    Nashville  \n",
       "4    Colorado       Denver  "
      ]
     },
     "execution_count": 17,
     "metadata": {},
     "output_type": "execute_result"
    }
   ],
   "source": [
    "# Taking a look at the data\n",
    "\n",
    "sA.head()"
   ]
  },
  {
   "cell_type": "code",
   "execution_count": 28,
   "metadata": {},
   "outputs": [],
   "source": [
    "# Dropping extraneous descriptiive columns that are unneccesary for analysis\n",
    "\n",
    "sA.drop(columns= ['Contacts', 'URL', 'Company Description', 'Round', 'Date', 'Sector', 'Industry', 'Country'], axis=1, inplace =True)"
   ]
  },
  {
   "cell_type": "code",
   "execution_count": 29,
   "metadata": {},
   "outputs": [
    {
     "data": {
      "text/plain": [
       "(1989, 8)"
      ]
     },
     "execution_count": 29,
     "metadata": {},
     "output_type": "execute_result"
    }
   ],
   "source": [
    "# Confirming the columns were dropped from the dataframe \n",
    "\n",
    "sA.shape"
   ]
  },
  {
   "cell_type": "code",
   "execution_count": 77,
   "metadata": {},
   "outputs": [
    {
     "data": {
      "text/html": [
       "<div>\n",
       "<style scoped>\n",
       "    .dataframe tbody tr th:only-of-type {\n",
       "        vertical-align: middle;\n",
       "    }\n",
       "\n",
       "    .dataframe tbody tr th {\n",
       "        vertical-align: top;\n",
       "    }\n",
       "\n",
       "    .dataframe thead th {\n",
       "        text-align: right;\n",
       "    }\n",
       "</style>\n",
       "<table border=\"1\" class=\"dataframe\">\n",
       "  <thead>\n",
       "    <tr style=\"text-align: right;\">\n",
       "      <th></th>\n",
       "      <th>Company</th>\n",
       "      <th>Amount</th>\n",
       "      <th>Round Investors</th>\n",
       "      <th>All Investors</th>\n",
       "      <th>Total Funding</th>\n",
       "      <th>Sub-Industry</th>\n",
       "      <th>State</th>\n",
       "      <th>City</th>\n",
       "    </tr>\n",
       "  </thead>\n",
       "  <tbody>\n",
       "    <tr>\n",
       "      <th>0</th>\n",
       "      <td>HackerRank</td>\n",
       "      <td>3.0</td>\n",
       "      <td>Khosla Ventures</td>\n",
       "      <td>Battery Ventures;Chartline Capital Partners;JM...</td>\n",
       "      <td>54.02</td>\n",
       "      <td>HR &amp; Workforce Management</td>\n",
       "      <td>California</td>\n",
       "      <td>Palo Alto</td>\n",
       "    </tr>\n",
       "    <tr>\n",
       "      <th>2</th>\n",
       "      <td>FarmLink</td>\n",
       "      <td>10.0</td>\n",
       "      <td>OpenAir Equity Partners</td>\n",
       "      <td>Adams Street Partners;Alpha Capital Partners;D...</td>\n",
       "      <td>150.48</td>\n",
       "      <td>Business Intelligence, Analytics &amp; Performance...</td>\n",
       "      <td>Missouri</td>\n",
       "      <td>Kansas City</td>\n",
       "    </tr>\n",
       "    <tr>\n",
       "      <th>3</th>\n",
       "      <td>Spendsetter</td>\n",
       "      <td>6.0</td>\n",
       "      <td>Martin Ventures;Stephen Collins</td>\n",
       "      <td>Jumpstart Foundry;Martin Ventures;Stephen Collins</td>\n",
       "      <td>18.00</td>\n",
       "      <td>Advertising, Sales &amp; Marketing</td>\n",
       "      <td>Tennessee</td>\n",
       "      <td>Nashville</td>\n",
       "    </tr>\n",
       "    <tr>\n",
       "      <th>4</th>\n",
       "      <td>UsingMiles</td>\n",
       "      <td>0.3</td>\n",
       "      <td>iSherpa Capital</td>\n",
       "      <td>Brett Jackson;Fabrice Grinda;iSherpa Capital;J...</td>\n",
       "      <td>3.52</td>\n",
       "      <td>Travel (internet)</td>\n",
       "      <td>Colorado</td>\n",
       "      <td>Denver</td>\n",
       "    </tr>\n",
       "    <tr>\n",
       "      <th>5</th>\n",
       "      <td>SurDoc</td>\n",
       "      <td>4.0</td>\n",
       "      <td>Ridge Ventures</td>\n",
       "      <td>Ridge Ventures</td>\n",
       "      <td>4.00</td>\n",
       "      <td>Data Storage</td>\n",
       "      <td>California</td>\n",
       "      <td>Menlo Park</td>\n",
       "    </tr>\n",
       "    <tr>\n",
       "      <th>6</th>\n",
       "      <td>BestVendor</td>\n",
       "      <td>3.0</td>\n",
       "      <td>BoxGroup;David Frankel;Old Willow Partners;RRE...</td>\n",
       "      <td>BoxGroup;David Frankel;DocStoc;Lerer Hippeau V...</td>\n",
       "      <td>3.90</td>\n",
       "      <td>B2B Commerce</td>\n",
       "      <td>New York</td>\n",
       "      <td>New York</td>\n",
       "    </tr>\n",
       "    <tr>\n",
       "      <th>7</th>\n",
       "      <td>AppsSavvy</td>\n",
       "      <td>7.1</td>\n",
       "      <td>AOL Ventures;Scott Kurnit;Social Leverage;Soci...</td>\n",
       "      <td>AOL Ventures;Howard Lindzon;Scott Kurnit;Socia...</td>\n",
       "      <td>10.25</td>\n",
       "      <td>Advertising Network or Exchange</td>\n",
       "      <td>New York</td>\n",
       "      <td>New York</td>\n",
       "    </tr>\n",
       "    <tr>\n",
       "      <th>8</th>\n",
       "      <td>LogoGarden.com</td>\n",
       "      <td>2.0</td>\n",
       "      <td>FCA Venture Partners</td>\n",
       "      <td>FCA Venture Partners</td>\n",
       "      <td>2.00</td>\n",
       "      <td>Advertising, Sales &amp; Marketing</td>\n",
       "      <td>Delaware</td>\n",
       "      <td>Wilmington</td>\n",
       "    </tr>\n",
       "    <tr>\n",
       "      <th>9</th>\n",
       "      <td>InContext Solutions</td>\n",
       "      <td>1.5</td>\n",
       "      <td>AMD Ventures;Hyde Park Angels;Hyde Park Ventur...</td>\n",
       "      <td>AMD Ventures;Beringea;Hyde Park Angels;Hyde Pa...</td>\n",
       "      <td>46.09</td>\n",
       "      <td>Multimedia &amp; Graphics</td>\n",
       "      <td>Illinois</td>\n",
       "      <td>Chicago</td>\n",
       "    </tr>\n",
       "    <tr>\n",
       "      <th>10</th>\n",
       "      <td>Montage Talent</td>\n",
       "      <td>3.0</td>\n",
       "      <td>Baird Venture Partners;Calumet Venture Fund;Ga...</td>\n",
       "      <td>Baird Capital Partners;Baird Venture Partners;...</td>\n",
       "      <td>24.00</td>\n",
       "      <td>HR &amp; Workforce Management</td>\n",
       "      <td>Wisconsin</td>\n",
       "      <td>Delafield</td>\n",
       "    </tr>\n",
       "  </tbody>\n",
       "</table>\n",
       "</div>"
      ],
      "text/plain": [
       "                Company  Amount  \\\n",
       "0            HackerRank     3.0   \n",
       "2              FarmLink    10.0   \n",
       "3           Spendsetter     6.0   \n",
       "4            UsingMiles     0.3   \n",
       "5                SurDoc     4.0   \n",
       "6            BestVendor     3.0   \n",
       "7             AppsSavvy     7.1   \n",
       "8        LogoGarden.com     2.0   \n",
       "9   InContext Solutions     1.5   \n",
       "10       Montage Talent     3.0   \n",
       "\n",
       "                                      Round Investors  \\\n",
       "0                                     Khosla Ventures   \n",
       "2                             OpenAir Equity Partners   \n",
       "3                     Martin Ventures;Stephen Collins   \n",
       "4                                     iSherpa Capital   \n",
       "5                                      Ridge Ventures   \n",
       "6   BoxGroup;David Frankel;Old Willow Partners;RRE...   \n",
       "7   AOL Ventures;Scott Kurnit;Social Leverage;Soci...   \n",
       "8                                FCA Venture Partners   \n",
       "9   AMD Ventures;Hyde Park Angels;Hyde Park Ventur...   \n",
       "10  Baird Venture Partners;Calumet Venture Fund;Ga...   \n",
       "\n",
       "                                        All Investors  Total Funding  \\\n",
       "0   Battery Ventures;Chartline Capital Partners;JM...          54.02   \n",
       "2   Adams Street Partners;Alpha Capital Partners;D...         150.48   \n",
       "3   Jumpstart Foundry;Martin Ventures;Stephen Collins          18.00   \n",
       "4   Brett Jackson;Fabrice Grinda;iSherpa Capital;J...           3.52   \n",
       "5                                      Ridge Ventures           4.00   \n",
       "6   BoxGroup;David Frankel;DocStoc;Lerer Hippeau V...           3.90   \n",
       "7   AOL Ventures;Howard Lindzon;Scott Kurnit;Socia...          10.25   \n",
       "8                                FCA Venture Partners           2.00   \n",
       "9   AMD Ventures;Beringea;Hyde Park Angels;Hyde Pa...          46.09   \n",
       "10  Baird Capital Partners;Baird Venture Partners;...          24.00   \n",
       "\n",
       "                                         Sub-Industry       State         City  \n",
       "0                           HR & Workforce Management  California    Palo Alto  \n",
       "2   Business Intelligence, Analytics & Performance...    Missouri  Kansas City  \n",
       "3                      Advertising, Sales & Marketing   Tennessee    Nashville  \n",
       "4                                   Travel (internet)    Colorado       Denver  \n",
       "5                                        Data Storage  California   Menlo Park  \n",
       "6                                        B2B Commerce    New York     New York  \n",
       "7                     Advertising Network or Exchange    New York     New York  \n",
       "8                      Advertising, Sales & Marketing    Delaware   Wilmington  \n",
       "9                               Multimedia & Graphics    Illinois      Chicago  \n",
       "10                          HR & Workforce Management   Wisconsin    Delafield  "
      ]
     },
     "execution_count": 77,
     "metadata": {},
     "output_type": "execute_result"
    }
   ],
   "source": [
    "# Another look\n",
    "\n",
    "sA.head(10)"
   ]
  },
  {
   "cell_type": "code",
   "execution_count": 35,
   "metadata": {},
   "outputs": [
    {
     "data": {
      "text/plain": [
       "Company             object\n",
       "Amount             float64\n",
       "Round Investors     object\n",
       "All Investors       object\n",
       "Total Funding      float64\n",
       "Sub-Industry        object\n",
       "State               object\n",
       "City                object\n",
       "dtype: object"
      ]
     },
     "execution_count": 35,
     "metadata": {},
     "output_type": "execute_result"
    }
   ],
   "source": [
    "sA.dtypes"
   ]
  },
  {
   "cell_type": "code",
   "execution_count": 33,
   "metadata": {},
   "outputs": [
    {
     "data": {
      "text/html": [
       "<div>\n",
       "<style scoped>\n",
       "    .dataframe tbody tr th:only-of-type {\n",
       "        vertical-align: middle;\n",
       "    }\n",
       "\n",
       "    .dataframe tbody tr th {\n",
       "        vertical-align: top;\n",
       "    }\n",
       "\n",
       "    .dataframe thead th {\n",
       "        text-align: right;\n",
       "    }\n",
       "</style>\n",
       "<table border=\"1\" class=\"dataframe\">\n",
       "  <thead>\n",
       "    <tr style=\"text-align: right;\">\n",
       "      <th></th>\n",
       "      <th>Amount</th>\n",
       "      <th>Total Funding</th>\n",
       "    </tr>\n",
       "  </thead>\n",
       "  <tbody>\n",
       "    <tr>\n",
       "      <th>count</th>\n",
       "      <td>1859.000000</td>\n",
       "      <td>1931.000000</td>\n",
       "    </tr>\n",
       "    <tr>\n",
       "      <th>mean</th>\n",
       "      <td>5.137310</td>\n",
       "      <td>50.698519</td>\n",
       "    </tr>\n",
       "    <tr>\n",
       "      <th>std</th>\n",
       "      <td>6.964191</td>\n",
       "      <td>165.992333</td>\n",
       "    </tr>\n",
       "    <tr>\n",
       "      <th>min</th>\n",
       "      <td>0.030000</td>\n",
       "      <td>0.020000</td>\n",
       "    </tr>\n",
       "    <tr>\n",
       "      <th>25%</th>\n",
       "      <td>2.000000</td>\n",
       "      <td>5.400000</td>\n",
       "    </tr>\n",
       "    <tr>\n",
       "      <th>50%</th>\n",
       "      <td>3.500000</td>\n",
       "      <td>16.000000</td>\n",
       "    </tr>\n",
       "    <tr>\n",
       "      <th>75%</th>\n",
       "      <td>6.000000</td>\n",
       "      <td>45.050000</td>\n",
       "    </tr>\n",
       "    <tr>\n",
       "      <th>max</th>\n",
       "      <td>165.000000</td>\n",
       "      <td>4398.130000</td>\n",
       "    </tr>\n",
       "  </tbody>\n",
       "</table>\n",
       "</div>"
      ],
      "text/plain": [
       "            Amount  Total Funding\n",
       "count  1859.000000    1931.000000\n",
       "mean      5.137310      50.698519\n",
       "std       6.964191     165.992333\n",
       "min       0.030000       0.020000\n",
       "25%       2.000000       5.400000\n",
       "50%       3.500000      16.000000\n",
       "75%       6.000000      45.050000\n",
       "max     165.000000    4398.130000"
      ]
     },
     "execution_count": 33,
     "metadata": {},
     "output_type": "execute_result"
    }
   ],
   "source": [
    "sA.describe()"
   ]
  },
  {
   "cell_type": "code",
   "execution_count": 39,
   "metadata": {},
   "outputs": [
    {
     "name": "stdout",
     "output_type": "stream",
     "text": [
      "Average Series A investment (in $MM): 5.137310381925769\n"
     ]
    }
   ],
   "source": [
    "print('Average Series A investment (in $MM): {}'.format(sA.Amount.mean()))"
   ]
  },
  {
   "cell_type": "code",
   "execution_count": 45,
   "metadata": {},
   "outputs": [
    {
     "name": "stdout",
     "output_type": "stream",
     "text": [
      "Average total investment (in $MM): 50.69851890212324\n"
     ]
    }
   ],
   "source": [
    "print('Average total investment (in $MM): {}'.format(sA['Total Funding'].mean()))"
   ]
  },
  {
   "cell_type": "code",
   "execution_count": 55,
   "metadata": {},
   "outputs": [
    {
     "data": {
      "image/png": "[encoded data removed]",
      "text/plain": [
       "<Figure size 864x576 with 1 Axes>"
      ]
     },
     "metadata": {},
     "output_type": "display_data"
    }
   ],
   "source": [
    "# histrogram of series A investment size\n",
    "sA.Amount.plot(kind='hist', bins=250, figsize=(12,8));"
   ]
  },
  {
   "cell_type": "code",
   "execution_count": 68,
   "metadata": {},
   "outputs": [
    {
     "data": {
      "text/plain": [
       "Company              0\n",
       "Amount             130\n",
       "Round Investors      0\n",
       "All Investors        0\n",
       "Total Funding       58\n",
       "Sub-Industry       112\n",
       "State                0\n",
       "City                 0\n",
       "dtype: int64"
      ]
     },
     "execution_count": 68,
     "metadata": {},
     "output_type": "execute_result"
    }
   ],
   "source": [
    "sA.isnull().sum()"
   ]
  },
  {
   "cell_type": "code",
   "execution_count": 74,
   "metadata": {},
   "outputs": [],
   "source": [
    "# Drop columns which have null values in the series A amount\n",
    "\n",
    "sA.dropna(subset=['Amount'], inplace=True)"
   ]
  },
  {
   "cell_type": "code",
   "execution_count": 75,
   "metadata": {},
   "outputs": [
    {
     "data": {
      "text/plain": [
       "Company             0\n",
       "Amount              0\n",
       "Round Investors     0\n",
       "All Investors       0\n",
       "Total Funding       0\n",
       "Sub-Industry       99\n",
       "State               0\n",
       "City                0\n",
       "dtype: int64"
      ]
     },
     "execution_count": 75,
     "metadata": {},
     "output_type": "execute_result"
    }
   ],
   "source": [
    "sA.isnull().sum()"
   ]
  },
  {
   "cell_type": "code",
   "execution_count": 76,
   "metadata": {},
   "outputs": [
    {
     "data": {
      "text/plain": [
       "(1859, 8)"
      ]
     },
     "execution_count": 76,
     "metadata": {},
     "output_type": "execute_result"
    }
   ],
   "source": [
    "sA.shape"
   ]
  },
  {
   "cell_type": "code",
   "execution_count": null,
   "metadata": {},
   "outputs": [],
   "source": [
    "# Hey Adam, I have a few questions here. This is the full data set, but I have another subset in a separate CSV which includes\n",
    "# all of the companies in this data set that have gone public. I would like to combine that data with this one by appending\n",
    "# a column to this dataframe with the title 'IPO' and a corresponding value of 1 or 0. Any recommended approach?\n",
    "# Also, given the amount of categorical data I have, how would you approach separating data out (e.g. investors in the round), \n",
    "# geographical data, etc. / visualizing data without creating a visual mess? Is the lack of numerical data problematic here?"
   ]
  }
 ],
 "metadata": {
  "kernelspec": {
   "display_name": "Python 3",
   "language": "python",
   "name": "python3"
  },
  "language_info": {
   "codemirror_mode": {
    "name": "ipython",
    "version": 3
   },
   "file_extension": ".py",
   "mimetype": "text/x-python",
   "name": "python",
   "nbconvert_exporter": "python",
   "pygments_lexer": "ipython3",
   "version": "3.6.5"
  }
 },
 "nbformat": 4,
 "nbformat_minor": 2
}
